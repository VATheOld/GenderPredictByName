{
  "nbformat": 4,
  "nbformat_minor": 0,
  "metadata": {
    "colab": {
      "name": "ProjectAI.ipynb",
      "provenance": [],
      "collapsed_sections": [],
      "include_colab_link": true
    },
    "kernelspec": {
      "name": "python3",
      "display_name": "Python 3"
    },
    "language_info": {
      "name": "python"
    }
  },
  "cells": [
    {
      "cell_type": "markdown",
      "metadata": {
        "id": "view-in-github",
        "colab_type": "text"
      },
      "source": [
        "<a href=\"https://colab.research.google.com/github/VATheOld/GenderPredictByName/blob/main/ProjectAI.ipynb\" target=\"_parent\"><img src=\"https://colab.research.google.com/assets/colab-badge.svg\" alt=\"Open In Colab\"/></a>"
      ]
    },
    {
      "cell_type": "markdown",
      "source": [
        "Import Machine Learning package"
      ],
      "metadata": {
        "id": "sUIOe_oLeJc3"
      }
    },
    {
      "cell_type": "code",
      "source": [
        "import pandas as pd\n",
        "import numpy as np\n",
        "from sklearn import svm\n",
        "from sklearn.feature_extraction.text import CountVectorizer"
      ],
      "metadata": {
        "id": "KIlc8LWfdffC"
      },
      "execution_count": 6,
      "outputs": []
    },
    {
      "cell_type": "code",
      "source": [
        "from google.colab import drive\n",
        "drive.mount('/content/drive')"
      ],
      "metadata": {
        "id": "CDAquxbtgW9U",
        "colab": {
          "base_uri": "https://localhost:8080/"
        },
        "outputId": "389aa8fd-43ce-4375-c683-64bb54516cdd"
      },
      "execution_count": 7,
      "outputs": [
        {
          "output_type": "stream",
          "name": "stdout",
          "text": [
            "Drive already mounted at /content/drive; to attempt to forcibly remount, call drive.mount(\"/content/drive\", force_remount=True).\n"
          ]
        }
      ]
    },
    {
      "cell_type": "markdown",
      "source": [
        "Enter Vietnamese or english name:"
      ],
      "metadata": {
        "id": "HMiWTUlT8bpE"
      }
    },
    {
      "cell_type": "code",
      "execution_count": 4,
      "metadata": {
        "colab": {
          "base_uri": "https://localhost:8080/"
        },
        "id": "8-ZmZy-38bG5",
        "outputId": "0053408a-fef6-44ae-d4ba-d6007adaa6c0"
      },
      "outputs": [
        {
          "output_type": "stream",
          "name": "stdout",
          "text": [
            "Enter 1 for input Vietnamese name, 2 for English name:1\n",
            "Enter Vietnamese name:Trần Thị Việt Cung\n",
            "inname: Thị Việt Cung\n"
          ]
        }
      ],
      "source": [
        "choice=input(\"Enter 1 for input Vietnamese name, 2 for English name:\")\n",
        "if choice==\"1\":\n",
        "    name=input(\"Enter Vietnamese name:\")\n",
        "    name=name.title()\n",
        "    componentName=name.split(\" \")\n",
        "    middleName=componentName[1:len(componentName)-1]\n",
        "    firstName=componentName[len(componentName)-1:]\n",
        "    name=middleName+firstName\n",
        "    inputname=\" \".join(name)\n",
        "    print(\"inname:\",inputname)\n",
        "elif choice==\"2\":\n",
        "    name=input(\"Enter English name:\")\n",
        "    componentName=name.split(\" \")\n",
        "    print(componentName)\n",
        "    for component in range(len(componentName)):\n",
        "        firstName=componentName[0]\n",
        "    print(firstName)"
      ]
    },
    {
      "cell_type": "markdown",
      "source": [
        "Import datasets:"
      ],
      "metadata": {
        "id": "l9k0Dv4Mfv06"
      }
    },
    {
      "cell_type": "markdown",
      "source": [
        "**Eng name code**"
      ],
      "metadata": {
        "id": "6v0hxpAzLOLi"
      }
    },
    {
      "cell_type": "markdown",
      "source": [
        "Get column name and gender and change M to 0, F to 1"
      ],
      "metadata": {
        "id": "j1tfmBYkIeN0"
      }
    },
    {
      "cell_type": "code",
      "source": [
        "co_l=[\"Name\",\"Gender\"]\n",
        "engNamelist=pd.read_csv('/content/drive/My Drive/AI_Project/Eng_name_gender_dataset.csv',usecols=co_l)\n",
        "engNamelist.Gender.replace({\"M\":0,\"F\":1},inplace=True)\n",
        "print(engNamelist)"
      ],
      "metadata": {
        "colab": {
          "base_uri": "https://localhost:8080/"
        },
        "id": "VRMtdN_nIZkQ",
        "outputId": "beb641cf-c802-4470-c6fe-57e63681b6db"
      },
      "execution_count": 8,
      "outputs": [
        {
          "output_type": "stream",
          "name": "stdout",
          "text": [
            "             Name  Gender\n",
            "0           James       0\n",
            "1            John       0\n",
            "2          Robert       0\n",
            "3         Michael       0\n",
            "4         William       0\n",
            "...           ...     ...\n",
            "528249   Zyleigh        1\n",
            "528250     Zylie        1\n",
            "528251    Zylpha        1\n",
            "528252       Zyna       1\n",
            "528253  Zyra-Mae        1\n",
            "\n",
            "[528254 rows x 2 columns]\n"
          ]
        }
      ]
    },
    {
      "cell_type": "code",
      "source": [
        "def features(name):\n",
        "    name = name.lower()\n",
        "    return {\n",
        "        'first-letter': name[0], # First letter\n",
        "        'first2-letters': name[0:2], # First 2 letters\n",
        "        'first3-letters': name[0:3], # First 3 letters\n",
        "        'last-letter': name[-1],\n",
        "        'last2-letters': name[-2:],\n",
        "        'last3-letters': name[-3:],\n",
        "    }"
      ],
      "metadata": {
        "id": "P0crC3Nu6Um6"
      },
      "execution_count": 9,
      "outputs": []
    },
    {
      "cell_type": "code",
      "source": [
        "features = np.vectorize(features)\n",
        "print(features([\"Anna\", \"Hannah\", \"Peter\",\"John\",\"Vladmir\",\"Mohammed\"]))"
      ],
      "metadata": {
        "id": "u9hRGDio6Xrz",
        "colab": {
          "base_uri": "https://localhost:8080/"
        },
        "outputId": "834a283f-9690-4fc2-990d-876744ff9776"
      },
      "execution_count": 10,
      "outputs": [
        {
          "output_type": "stream",
          "name": "stdout",
          "text": [
            "[{'first-letter': 'a', 'first2-letters': 'an', 'first3-letters': 'ann', 'last-letter': 'a', 'last2-letters': 'na', 'last3-letters': 'nna'}\n",
            " {'first-letter': 'h', 'first2-letters': 'ha', 'first3-letters': 'han', 'last-letter': 'h', 'last2-letters': 'ah', 'last3-letters': 'nah'}\n",
            " {'first-letter': 'p', 'first2-letters': 'pe', 'first3-letters': 'pet', 'last-letter': 'r', 'last2-letters': 'er', 'last3-letters': 'ter'}\n",
            " {'first-letter': 'j', 'first2-letters': 'jo', 'first3-letters': 'joh', 'last-letter': 'n', 'last2-letters': 'hn', 'last3-letters': 'ohn'}\n",
            " {'first-letter': 'v', 'first2-letters': 'vl', 'first3-letters': 'vla', 'last-letter': 'r', 'last2-letters': 'ir', 'last3-letters': 'mir'}\n",
            " {'first-letter': 'm', 'first2-letters': 'mo', 'first3-letters': 'moh', 'last-letter': 'd', 'last2-letters': 'ed', 'last3-letters': 'med'}]\n"
          ]
        }
      ]
    },
    {
      "cell_type": "code",
      "source": [
        "# Extract the features for the dataset\n",
        "df_X = features(engNamelist['Name'])\n",
        "print(df_X)"
      ],
      "metadata": {
        "id": "OH5Jllbp6dCK",
        "colab": {
          "base_uri": "https://localhost:8080/"
        },
        "outputId": "924fb9f2-5937-40d7-8729-6238218f6199"
      },
      "execution_count": 11,
      "outputs": [
        {
          "output_type": "stream",
          "name": "stdout",
          "text": [
            "[{'first-letter': 'j', 'first2-letters': 'ja', 'first3-letters': 'jam', 'last-letter': 's', 'last2-letters': 'es', 'last3-letters': 'mes'}\n",
            " {'first-letter': 'j', 'first2-letters': 'jo', 'first3-letters': 'joh', 'last-letter': 'n', 'last2-letters': 'hn', 'last3-letters': 'ohn'}\n",
            " {'first-letter': 'r', 'first2-letters': 'ro', 'first3-letters': 'rob', 'last-letter': 't', 'last2-letters': 'rt', 'last3-letters': 'ert'}\n",
            " ...\n",
            " {'first-letter': 'z', 'first2-letters': 'zy', 'first3-letters': 'zyl', 'last-letter': ' ', 'last2-letters': 'a ', 'last3-letters': 'ha '}\n",
            " {'first-letter': 'z', 'first2-letters': 'zy', 'first3-letters': 'zyn', 'last-letter': 'a', 'last2-letters': 'na', 'last3-letters': 'yna'}\n",
            " {'first-letter': 'z', 'first2-letters': 'zy', 'first3-letters': 'zyr', 'last-letter': ' ', 'last2-letters': 'e ', 'last3-letters': 'ae '}]\n"
          ]
        }
      ]
    },
    {
      "cell_type": "code",
      "source": [
        "df_y = engNamelist['Gender']"
      ],
      "metadata": {
        "id": "ZHxwRfnu6ki4"
      },
      "execution_count": 12,
      "outputs": []
    },
    {
      "cell_type": "code",
      "source": [
        "from sklearn.feature_extraction import DictVectorizer\n",
        " \n",
        "corpus = features([\"Mike\", \"Julia\"])\n",
        "dv = DictVectorizer()\n",
        "dv.fit(corpus)\n",
        "transformed = dv.transform(corpus)\n",
        "print(transformed)"
      ],
      "metadata": {
        "colab": {
          "base_uri": "https://localhost:8080/"
        },
        "id": "_piCR3zF6r4K",
        "outputId": "a6376107-e324-4803-be14-36ba1c1a26d9"
      },
      "execution_count": 13,
      "outputs": [
        {
          "output_type": "stream",
          "name": "stdout",
          "text": [
            "  (0, 1)\t1.0\n",
            "  (0, 3)\t1.0\n",
            "  (0, 5)\t1.0\n",
            "  (0, 7)\t1.0\n",
            "  (0, 9)\t1.0\n",
            "  (0, 10)\t1.0\n",
            "  (1, 0)\t1.0\n",
            "  (1, 2)\t1.0\n",
            "  (1, 4)\t1.0\n",
            "  (1, 6)\t1.0\n",
            "  (1, 8)\t1.0\n",
            "  (1, 11)\t1.0\n"
          ]
        }
      ]
    },
    {
      "cell_type": "code",
      "source": [
        "dv.get_feature_names()"
      ],
      "metadata": {
        "id": "NEM5Pf4y6wDw",
        "colab": {
          "base_uri": "https://localhost:8080/"
        },
        "outputId": "91a05f91-eac0-47b7-9bc1-374cce7c1cbc"
      },
      "execution_count": 14,
      "outputs": [
        {
          "output_type": "stream",
          "name": "stderr",
          "text": [
            "/usr/local/lib/python3.7/dist-packages/sklearn/utils/deprecation.py:87: FutureWarning: Function get_feature_names is deprecated; get_feature_names is deprecated in 1.0 and will be removed in 1.2. Please use get_feature_names_out instead.\n",
            "  warnings.warn(msg, category=FutureWarning)\n"
          ]
        },
        {
          "output_type": "execute_result",
          "data": {
            "text/plain": [
              "['first-letter=j',\n",
              " 'first-letter=m',\n",
              " 'first2-letters=ju',\n",
              " 'first2-letters=mi',\n",
              " 'first3-letters=jul',\n",
              " 'first3-letters=mik',\n",
              " 'last-letter=a',\n",
              " 'last-letter=e',\n",
              " 'last2-letters=ia',\n",
              " 'last2-letters=ke',\n",
              " 'last3-letters=ike',\n",
              " 'last3-letters=lia']"
            ]
          },
          "metadata": {},
          "execution_count": 14
        }
      ]
    },
    {
      "cell_type": "code",
      "source": [
        "# Train Test Split\n",
        "from sklearn.model_selection import train_test_split\n",
        "dfX_train, dfX_test, dfy_train, dfy_test = train_test_split(df_X, df_y, test_size=0.33, random_state=42)\n",
        "print(dfX_train.shape, dfX_test.shape, dfy_train.shape, dfy_test.shape)"
      ],
      "metadata": {
        "id": "p_YPfh0I63a3",
        "colab": {
          "base_uri": "https://localhost:8080/"
        },
        "outputId": "586f66af-cdd6-4e40-ad81-da5e7048ca79"
      },
      "execution_count": 15,
      "outputs": [
        {
          "output_type": "stream",
          "name": "stdout",
          "text": [
            "(353930,) (174324,) (353930,) (174324,)\n"
          ]
        }
      ]
    },
    {
      "cell_type": "code",
      "source": [
        "dv = DictVectorizer()\n",
        "dv.fit_transform(dfX_train)"
      ],
      "metadata": {
        "colab": {
          "base_uri": "https://localhost:8080/"
        },
        "id": "9OIL_C2U6-vc",
        "outputId": "ef7222e7-593d-414c-973f-d76d87bfe64d"
      },
      "execution_count": 16,
      "outputs": [
        {
          "output_type": "execute_result",
          "data": {
            "text/plain": [
              "<353930x13720 sparse matrix of type '<class 'numpy.float64'>'\n",
              "\twith 2123580 stored elements in Compressed Sparse Row format>"
            ]
          },
          "metadata": {},
          "execution_count": 16
        }
      ]
    },
    {
      "cell_type": "code",
      "source": [
        "# Model building Using DecisionTree\n",
        "\n",
        "from sklearn.tree import DecisionTreeClassifier\n",
        " \n",
        "dclf = DecisionTreeClassifier()\n",
        "my_xfeatures =dv.transform(dfX_train)\n",
        "dclf.fit(my_xfeatures, dfy_train)\n",
        "test_xfeatures =dv.transform(dfX_test)\n",
        "y_pred=dclf.predict(test_xfeatures)\n",
        "print(y_pred)"
      ],
      "metadata": {
        "id": "2-UzTE177Czr",
        "colab": {
          "base_uri": "https://localhost:8080/"
        },
        "outputId": "3d799e6a-81e9-4a3d-e415-1f994cfe5aa9"
      },
      "execution_count": 17,
      "outputs": [
        {
          "output_type": "stream",
          "name": "stdout",
          "text": [
            "[0 1 1 ... 1 1 1]\n"
          ]
        }
      ]
    },
    {
      "cell_type": "code",
      "source": [
        "from sklearn.metrics import confusion_matrix\n",
        "from sklearn.metrics import classification_report\n",
        "from sklearn.metrics import accuracy_score\n",
        "print(confusion_matrix(dfy_test, y_pred))\n",
        "print(classification_report(dfy_test, y_pred))\n",
        "print('Accuracy:', str(accuracy_score(dfy_test, y_pred)))\n",
        "print('Accuracy:', str(accuracy_score(y_pred,dfy_test)))"
      ],
      "metadata": {
        "colab": {
          "base_uri": "https://localhost:8080/"
        },
        "id": "TMDUnIc0GyCS",
        "outputId": "64aa5ea6-b858-4d6e-95fa-a88df33a6aee"
      },
      "execution_count": 18,
      "outputs": [
        {
          "output_type": "stream",
          "name": "stdout",
          "text": [
            "[[61298 12275]\n",
            " [14706 86045]]\n",
            "              precision    recall  f1-score   support\n",
            "\n",
            "           0       0.81      0.83      0.82     73573\n",
            "           1       0.88      0.85      0.86    100751\n",
            "\n",
            "    accuracy                           0.85    174324\n",
            "   macro avg       0.84      0.84      0.84    174324\n",
            "weighted avg       0.85      0.85      0.85    174324\n",
            "\n",
            "Accuracy: 0.8452249833643102\n",
            "Accuracy: 0.8452249833643102\n"
          ]
        }
      ]
    },
    {
      "cell_type": "code",
      "source": [
        "# Accuracy on training set\n",
        "print(dclf.score(dv.transform(dfX_train), dfy_train)) "
      ],
      "metadata": {
        "colab": {
          "base_uri": "https://localhost:8080/"
        },
        "id": "NblampBN7HsW",
        "outputId": "939b82ee-31d8-4bd3-8b69-2ac6547af02f"
      },
      "execution_count": 19,
      "outputs": [
        {
          "output_type": "stream",
          "name": "stdout",
          "text": [
            "0.9197185884214393\n"
          ]
        }
      ]
    },
    {
      "cell_type": "code",
      "source": [
        "# Accuracy on test set\n",
        "print(dclf.score(dv.transform(dfX_test), dfy_test))"
      ],
      "metadata": {
        "colab": {
          "base_uri": "https://localhost:8080/"
        },
        "id": "f3DCvCAm7RU-",
        "outputId": "7f11fbb4-8f2d-45c5-9895-9525dbe45a8c"
      },
      "execution_count": 20,
      "outputs": [
        {
          "output_type": "stream",
          "name": "stdout",
          "text": [
            "0.8452249833643102\n"
          ]
        }
      ]
    },
    {
      "cell_type": "code",
      "source": [
        "sample_name3 = [\"Susan\",\"Emily\",\"Hans\",\"John\",\"Marco\",\"Sayla\",\"Mamon\"]"
      ],
      "metadata": {
        "id": "8iERNQYaHOJS"
      },
      "execution_count": 21,
      "outputs": []
    },
    {
      "cell_type": "code",
      "source": [
        "# Fuction to predict using Decision Tree Model\n",
        "def engNameGenderPredict(name):\n",
        "    n=[name]\n",
        "    vector=dv.transform(features(n)).toarray()\n",
        "    result=dclf.predict(vector)\n",
        "    if result == 1:\n",
        "        print(\"Female\")\n",
        "    elif result == 0:\n",
        "        print(\"Male\")"
      ],
      "metadata": {
        "id": "ohqQpoHNyJaP"
      },
      "execution_count": 22,
      "outputs": []
    },
    {
      "cell_type": "code",
      "source": [
        "for n in sample_name3:\n",
        "     engNameGenderPredict(n)"
      ],
      "metadata": {
        "colab": {
          "base_uri": "https://localhost:8080/"
        },
        "id": "S17vKQWQydGw",
        "outputId": "b882f268-780f-4e7b-e55c-b7adf05d6efc"
      },
      "execution_count": 23,
      "outputs": [
        {
          "output_type": "stream",
          "name": "stdout",
          "text": [
            "Female\n",
            "Female\n",
            "Male\n",
            "Male\n",
            "Male\n",
            "Female\n",
            "Female\n"
          ]
        }
      ]
    },
    {
      "cell_type": "code",
      "source": [
        "#Test input\n",
        "engName=firstName\n",
        "print(engName)\n",
        "engNameGenderPredict(engName)"
      ],
      "metadata": {
        "colab": {
          "base_uri": "https://localhost:8080/"
        },
        "id": "-oIPK6Kz0NnB",
        "outputId": "7c8cc746-759b-474f-a3d8-2dc39e41a4e5"
      },
      "execution_count": null,
      "outputs": [
        {
          "output_type": "stream",
          "name": "stdout",
          "text": [
            "Jeanne\n",
            "Female\n"
          ]
        }
      ]
    },
    {
      "cell_type": "code",
      "source": [
        "# save model\n",
        "import pickle\n",
        "dctreeModel = open(\"DecisionTree_Model.pkl\",\"wb\")\n",
        "pickle.dump(dclf,dctreeModel)\n",
        "dctreeModel.close()"
      ],
      "metadata": {
        "id": "aLI4HI9-9-Uz"
      },
      "execution_count": null,
      "outputs": []
    },
    {
      "cell_type": "code",
      "source": [
        "# load the model\n",
        "\n",
        "import pickle\n",
        "pickled_model = pickle.load(open('/content/drive/My Drive/AI_Project/DecisionTree_Model.pkl', 'rb'))\n",
        "pickled_model.predict(dv.transform(dfX_test))\n",
        "result = pickled_model.score(dv.transform(dfX_test),dfy_test)\n",
        "print(result)"
      ],
      "metadata": {
        "colab": {
          "base_uri": "https://localhost:8080/"
        },
        "id": "58X0Zj4lBOMT",
        "outputId": "1efec990-a604-4e7a-f61a-5264a94d7236"
      },
      "execution_count": null,
      "outputs": [
        {
          "output_type": "stream",
          "name": "stdout",
          "text": [
            "0.84528234781212\n"
          ]
        }
      ]
    },
    {
      "cell_type": "markdown",
      "source": [
        "**Vietnam Name code**"
      ],
      "metadata": {
        "id": "w0gAzvdFLFl5"
      }
    },
    {
      "cell_type": "markdown",
      "source": [
        "Get Vietnamese dataset and set Male as 0, Female as 1"
      ],
      "metadata": {
        "id": "fbYRpmAnXBGU"
      }
    },
    {
      "cell_type": "code",
      "source": [
        "col=['Name','Gender']\n",
        "VietNamelist=pd.read_csv('/content/drive/My Drive/AI_Project/Vietnamese_Name_gender.csv',usecols=col)\n",
        "VietNamelist.Gender.replace({\"M\":0,\"F\":1},inplace=True)\n",
        "print(VietNamelist)"
      ],
      "metadata": {
        "colab": {
          "base_uri": "https://localhost:8080/"
        },
        "id": "AArc7EhgUrPX",
        "outputId": "906663e7-2da0-48da-ad0d-20600610ce68"
      },
      "execution_count": 24,
      "outputs": [
        {
          "output_type": "stream",
          "name": "stdout",
          "text": [
            "               Name Gender\n",
            "0        phương anh      1\n",
            "1        phương mai      1\n",
            "2        phương nam      0\n",
            "3        quang minh      0\n",
            "4        quang vinh      0\n",
            "...             ...    ...\n",
            "75616       Tiến Sỹ      0\n",
            "75617     Thị Huyền      1\n",
            "75618  Keaut Vannet      0\n",
            "75619       Thị Huê      1\n",
            "75620      Xuân Đại      0\n",
            "\n",
            "[75621 rows x 2 columns]\n"
          ]
        }
      ]
    },
    {
      "cell_type": "code",
      "source": [
        "VietNamelist['Name']=VietNamelist['Name'].str.lower()\n",
        "print(VietNamelist['Name'])"
      ],
      "metadata": {
        "id": "kqSH4xYxFSII",
        "colab": {
          "base_uri": "https://localhost:8080/"
        },
        "outputId": "b364591b-d70b-4ecf-89c6-a399504705fa"
      },
      "execution_count": 25,
      "outputs": [
        {
          "output_type": "stream",
          "name": "stdout",
          "text": [
            "0          phương anh\n",
            "1          phương mai\n",
            "2          phương nam\n",
            "3          quang minh\n",
            "4          quang vinh\n",
            "             ...     \n",
            "75616         tiến sỹ\n",
            "75617       thị huyền\n",
            "75618    keaut vannet\n",
            "75619         thị huê\n",
            "75620        xuân đại\n",
            "Name: Name, Length: 75621, dtype: object\n"
          ]
        }
      ]
    },
    {
      "cell_type": "code",
      "source": [
        "Xfeature=VietNamelist['Name']\n",
        "cv=CountVectorizer()\n",
        "X=cv.fit_transform(VietNamelist['Name'].values.astype(str))"
      ],
      "metadata": {
        "id": "ZW6tWKSKcod0"
      },
      "execution_count": 31,
      "outputs": []
    },
    {
      "cell_type": "code",
      "source": [
        "cv.get_feature_names()"
      ],
      "metadata": {
        "id": "7H_Sdx4K_qbk",
        "colab": {
          "base_uri": "https://localhost:8080/"
        },
        "outputId": "0215aa42-84e0-4039-cfb7-1b1b105b2e09"
      },
      "execution_count": 27,
      "outputs": [
        {
          "output_type": "stream",
          "name": "stderr",
          "text": [
            "/usr/local/lib/python3.7/dist-packages/sklearn/utils/deprecation.py:87: FutureWarning: Function get_feature_names is deprecated; get_feature_names is deprecated in 1.0 and will be removed in 1.2. Please use get_feature_names_out instead.\n",
            "  warnings.warn(msg, category=FutureWarning)\n"
          ]
        },
        {
          "output_type": "execute_result",
          "data": {
            "text/plain": [
              "['adel',\n",
              " 'ai',\n",
              " 'an',\n",
              " 'anh',\n",
              " 'anna',\n",
              " 'ao',\n",
              " 'arăn',\n",
              " 'as',\n",
              " 'asia',\n",
              " 'ba',\n",
              " 'bac',\n",
              " 'bach',\n",
              " 'ban',\n",
              " 'bane',\n",
              " 'bang',\n",
              " 'bao',\n",
              " 'bas',\n",
              " 'bau',\n",
              " 'bay',\n",
              " 'be',\n",
              " 'ben',\n",
              " 'benl',\n",
              " 'bi',\n",
              " 'bia',\n",
              " 'bin',\n",
              " 'binh',\n",
              " 'biên',\n",
              " 'biết',\n",
              " 'biền',\n",
              " 'biển',\n",
              " 'biểu',\n",
              " 'biện',\n",
              " 'bla',\n",
              " 'blanh',\n",
              " 'bli',\n",
              " 'bling',\n",
              " 'blong',\n",
              " 'bo',\n",
              " 'bon',\n",
              " 'bonl',\n",
              " 'bou',\n",
              " 'bovănhương',\n",
              " 'boy',\n",
              " 'brah',\n",
              " 'brin',\n",
              " 'brinh',\n",
              " 'brus',\n",
              " 'brèm',\n",
              " 'brê',\n",
              " 'brìn',\n",
              " 'brìng',\n",
              " 'brích',\n",
              " 'brơ',\n",
              " 'brưi',\n",
              " 'brưu',\n",
              " 'brậm',\n",
              " 'brị',\n",
              " 'brịp',\n",
              " 'brịu',\n",
              " 'brổih',\n",
              " 'brớs',\n",
              " 'brởs',\n",
              " 'bu',\n",
              " 'bune',\n",
              " 'bunthămmạ',\n",
              " 'buôi',\n",
              " 'buôl',\n",
              " 'buồn',\n",
              " 'by',\n",
              " 'byai',\n",
              " 'byali',\n",
              " 'byil',\n",
              " 'byã',\n",
              " 'bài',\n",
              " 'bàng',\n",
              " 'bào',\n",
              " 'bày',\n",
              " 'bá',\n",
              " 'bách',\n",
              " 'bái',\n",
              " 'báo',\n",
              " 'bás',\n",
              " 'bát',\n",
              " 'báte',\n",
              " 'báu',\n",
              " 'bân',\n",
              " 'bâng',\n",
              " 'bâu',\n",
              " 'bây',\n",
              " 'bão',\n",
              " 'bèo',\n",
              " 'bé',\n",
              " 'bê',\n",
              " 'bên',\n",
              " 'bìn',\n",
              " 'bình',\n",
              " 'bí',\n",
              " 'bích',\n",
              " 'bính',\n",
              " 'bòi',\n",
              " 'bô',\n",
              " 'bôi',\n",
              " 'bôn',\n",
              " 'bông',\n",
              " 'bùi',\n",
              " 'búp',\n",
              " 'bă',\n",
              " 'băn',\n",
              " 'băng',\n",
              " 'bůng',\n",
              " 'bơ',\n",
              " 'bơs',\n",
              " 'bưu',\n",
              " 'bươl',\n",
              " 'bươne',\n",
              " 'bước',\n",
              " 'bường',\n",
              " 'bưởi',\n",
              " 'bạc',\n",
              " 'bạch',\n",
              " 'bạo',\n",
              " 'bả',\n",
              " 'bản',\n",
              " 'bảng',\n",
              " 'bảnh',\n",
              " 'bảo',\n",
              " 'bảy',\n",
              " 'bất',\n",
              " 'bẩu',\n",
              " 'bẩy',\n",
              " 'bật',\n",
              " 'bắc',\n",
              " 'bằng',\n",
              " 'bế',\n",
              " 'bến',\n",
              " 'bền',\n",
              " 'bện',\n",
              " 'bỉ',\n",
              " 'bỉnh',\n",
              " 'bọc',\n",
              " 'bối',\n",
              " 'bốn',\n",
              " 'bống',\n",
              " 'bồng',\n",
              " 'bổ',\n",
              " 'bổn',\n",
              " 'bổng',\n",
              " 'bộ',\n",
              " 'bội',\n",
              " 'bừm',\n",
              " 'bửu',\n",
              " 'bữu',\n",
              " 'ca',\n",
              " 'cam',\n",
              " 'can',\n",
              " 'cang',\n",
              " 'canh',\n",
              " 'cao',\n",
              " 'caril',\n",
              " 'cat',\n",
              " 'cay',\n",
              " 'ch',\n",
              " 'chalrada',\n",
              " 'cham',\n",
              " 'chan',\n",
              " 'chane',\n",
              " 'chang',\n",
              " 'chanh',\n",
              " 'chao',\n",
              " 'che',\n",
              " 'chen',\n",
              " 'chhệch',\n",
              " 'chi',\n",
              " 'chia',\n",
              " 'chin',\n",
              " 'chinh',\n",
              " 'chiêm',\n",
              " 'chiên',\n",
              " 'chiêu',\n",
              " 'chiếm',\n",
              " 'chiến',\n",
              " 'chiều',\n",
              " 'chiển',\n",
              " 'chiểu',\n",
              " 'choi',\n",
              " 'chon',\n",
              " 'choáng',\n",
              " 'chu',\n",
              " 'chua',\n",
              " 'chung',\n",
              " 'chuyên',\n",
              " 'chuyền',\n",
              " 'chuyển',\n",
              " 'chuyện',\n",
              " 'chuân',\n",
              " 'chuôn',\n",
              " 'chuông',\n",
              " 'chuẩn',\n",
              " 'chuồn',\n",
              " 'chuổng',\n",
              " 'chà',\n",
              " 'chàn',\n",
              " 'chàne',\n",
              " 'chàng',\n",
              " 'chành',\n",
              " 'chá',\n",
              " 'chác',\n",
              " 'cháng',\n",
              " 'chánh',\n",
              " 'châ',\n",
              " 'châm',\n",
              " 'chân',\n",
              " 'châu',\n",
              " 'chây',\n",
              " 'chét',\n",
              " 'chênh',\n",
              " 'chì',\n",
              " 'chìa',\n",
              " 'chình',\n",
              " 'chìu',\n",
              " 'chí',\n",
              " 'chích',\n",
              " 'chín',\n",
              " 'chính',\n",
              " 'chòi',\n",
              " 'chót',\n",
              " 'chúc',\n",
              " 'chúng',\n",
              " 'chăm',\n",
              " 'chăn',\n",
              " 'chăng',\n",
              " 'chơn',\n",
              " 'chư',\n",
              " 'chươne',\n",
              " 'chương',\n",
              " 'chướng',\n",
              " 'chường',\n",
              " 'chưởng',\n",
              " 'chưỡng',\n",
              " 'chạn',\n",
              " 'chạng',\n",
              " 'chấn',\n",
              " 'chấp',\n",
              " 'chất',\n",
              " 'chầm',\n",
              " 'chẩn',\n",
              " 'chắn',\n",
              " 'chắt',\n",
              " 'chế',\n",
              " 'chỉnh',\n",
              " 'chị',\n",
              " 'chịa',\n",
              " 'chọn',\n",
              " 'chống',\n",
              " 'chổm',\n",
              " 'chờ',\n",
              " 'chủ',\n",
              " 'chủng',\n",
              " 'chứ',\n",
              " 'chức',\n",
              " 'chữ',\n",
              " 'cil',\n",
              " 'coi',\n",
              " 'collins',\n",
              " 'creo',\n",
              " 'criêu',\n",
              " 'cu',\n",
              " 'cumman',\n",
              " 'cung',\n",
              " 'cuôl',\n",
              " 'cuône',\n",
              " 'cuốn',\n",
              " 'cuờng',\n",
              " 'cà',\n",
              " 'càn',\n",
              " 'cành',\n",
              " 'cá',\n",
              " 'các',\n",
              " 'cái',\n",
              " 'cán',\n",
              " 'cáng',\n",
              " 'cánh',\n",
              " 'cát',\n",
              " 'câ',\n",
              " 'cân',\n",
              " 'cây',\n",
              " 'còn',\n",
              " 'còong',\n",
              " 'có',\n",
              " 'cón',\n",
              " 'cóng',\n",
              " 'cô',\n",
              " 'côi',\n",
              " 'côn',\n",
              " 'công',\n",
              " 'cônng',\n",
              " 'cú',\n",
              " 'cúc',\n",
              " 'cún',\n",
              " 'căn',\n",
              " 'căt',\n",
              " 'cơ',\n",
              " 'cơi',\n",
              " 'cư',\n",
              " 'cươ',\n",
              " 'cương',\n",
              " 'cười',\n",
              " 'cường',\n",
              " 'cưởi',\n",
              " 'cải',\n",
              " 'cảm',\n",
              " 'cảng',\n",
              " 'cảnh',\n",
              " 'cấp',\n",
              " 'cấu',\n",
              " 'cầm',\n",
              " 'cần',\n",
              " 'cầu',\n",
              " 'cẩm',\n",
              " 'cẩn',\n",
              " 'cẫm',\n",
              " 'cằn',\n",
              " 'cặp',\n",
              " 'cố',\n",
              " 'cốc',\n",
              " 'cống',\n",
              " 'cộng',\n",
              " 'củ',\n",
              " 'của',\n",
              " 'cừ',\n",
              " 'cử',\n",
              " 'cửu',\n",
              " 'cự',\n",
              " 'da',\n",
              " 'dai',\n",
              " 'dam',\n",
              " 'dang',\n",
              " 'danh',\n",
              " 'dania',\n",
              " 'dao',\n",
              " 'dass',\n",
              " 'de',\n",
              " 'delen',\n",
              " 'dem',\n",
              " 'di',\n",
              " 'diah',\n",
              " 'diam',\n",
              " 'dich',\n",
              " 'dim',\n",
              " 'din',\n",
              " 'dinh',\n",
              " 'diê',\n",
              " 'diêm',\n",
              " 'diên',\n",
              " 'diêng',\n",
              " 'diêu',\n",
              " 'diêụ',\n",
              " 'diếm',\n",
              " 'diến',\n",
              " 'diền',\n",
              " 'diểm',\n",
              " 'diển',\n",
              " 'diểu',\n",
              " 'diễm',\n",
              " 'diễn',\n",
              " 'diệm',\n",
              " 'diện',\n",
              " 'diệp',\n",
              " 'diệt',\n",
              " 'diệu',\n",
              " 'do',\n",
              " 'doan',\n",
              " 'doanh',\n",
              " 'dong',\n",
              " 'doãn',\n",
              " 'drim',\n",
              " 'drimm',\n",
              " 'dròng',\n",
              " 'du',\n",
              " 'dum',\n",
              " 'dung',\n",
              " 'duy',\n",
              " 'duyn',\n",
              " 'duynh',\n",
              " 'duyên',\n",
              " 'duyến',\n",
              " 'duyền',\n",
              " 'duyễn',\n",
              " 'duyệt',\n",
              " 'duơng',\n",
              " 'duẩn',\n",
              " 'duẫn',\n",
              " 'duệ',\n",
              " 'duỹ',\n",
              " 'dy',\n",
              " 'dzuy',\n",
              " 'dàn',\n",
              " 'dàng',\n",
              " 'dáng',\n",
              " 'dát',\n",
              " 'dâ',\n",
              " 'dân',\n",
              " 'dâng',\n",
              " 'dã',\n",
              " 'dìm',\n",
              " 'dìn',\n",
              " 'dích',\n",
              " 'dín',\n",
              " 'dính',\n",
              " 'dònh',\n",
              " 'dô',\n",
              " 'dôn',\n",
              " 'dù',\n",
              " 'dùng',\n",
              " 'dú',\n",
              " 'dúi',\n",
              " 'dăm',\n",
              " 'dĩ',\n",
              " 'dĩnh',\n",
              " 'dũ',\n",
              " 'dũng',\n",
              " 'dơng',\n",
              " 'dư',\n",
              " 'dưcmg',\n",
              " 'dưng',\n",
              " 'dưnh',\n",
              " 'dương',\n",
              " 'dưởng',\n",
              " 'dưỡng',\n",
              " 'dược',\n",
              " 'dượng',\n",
              " 'dạ',\n",
              " 'dải',\n",
              " 'dảng',\n",
              " 'dất',\n",
              " 'dấu',\n",
              " 'dần',\n",
              " 'dầng',\n",
              " 'dầu',\n",
              " 'dẫn',\n",
              " 'dận',\n",
              " 'dặm',\n",
              " 'dẹn',\n",
              " 'dẻ',\n",
              " 'dẽ',\n",
              " 'dếnh',\n",
              " 'dền',\n",
              " 'dễ',\n",
              " 'dệu',\n",
              " 'dỉ',\n",
              " 'dỉnh',\n",
              " 'dị',\n",
              " 'dịu',\n",
              " 'dọi',\n",
              " 'dọng',\n",
              " 'dỏng',\n",
              " 'dờ',\n",
              " 'dụ',\n",
              " 'dục',\n",
              " 'dụk',\n",
              " 'dụng',\n",
              " 'dủ',\n",
              " 'dủi',\n",
              " 'dủng',\n",
              " 'dủy',\n",
              " 'dức',\n",
              " 'dửa',\n",
              " 'dững',\n",
              " 'dự',\n",
              " 'dực',\n",
              " 'el',\n",
              " 'elizabéc',\n",
              " 'em',\n",
              " 'en',\n",
              " 'eo',\n",
              " 'eric',\n",
              " 'erit',\n",
              " 'faer',\n",
              " 'feng',\n",
              " 'fắc',\n",
              " 'ga',\n",
              " 'gabila',\n",
              " 'gar',\n",
              " 'gen',\n",
              " 'ghi',\n",
              " 'ghé',\n",
              " 'ghến',\n",
              " 'ghển',\n",
              " 'gia',\n",
              " 'giai',\n",
              " 'gian',\n",
              " 'giang',\n",
              " 'giao',\n",
              " 'gim',\n",
              " 'gin',\n",
              " 'gioan',\n",
              " 'giàng',\n",
              " 'giào',\n",
              " 'giàu',\n",
              " 'giá',\n",
              " 'giác',\n",
              " 'giám',\n",
              " 'giáng',\n",
              " 'giáo',\n",
              " 'giáp',\n",
              " 'giôn',\n",
              " 'giúp',\n",
              " 'giả',\n",
              " 'giản',\n",
              " 'giảng',\n",
              " 'giầu',\n",
              " 'giềng',\n",
              " 'giỏi',\n",
              " 'giới',\n",
              " 'glan',\n",
              " 'glang',\n",
              " 'goa',\n",
              " 'goanh',\n",
              " 'gout',\n",
              " 'goàng',\n",
              " 'goút',\n",
              " 'grét',\n",
              " 'guang',\n",
              " 'gur',\n",
              " 'guy',\n",
              " 'guân',\n",
              " 'gái',\n",
              " 'gêm',\n",
              " 'gìn',\n",
              " 'gô',\n",
              " 'gôsh',\n",
              " 'gă',\n",
              " 'gŏi',\n",
              " 'gươm',\n",
              " 'gạo',\n",
              " 'gấm',\n",
              " 'gần',\n",
              " 'gắm',\n",
              " 'gến',\n",
              " 'gọn',\n",
              " 'gốt',\n",
              " 'ha',\n",
              " 'hai',\n",
              " 'han',\n",
              " 'hanh',\n",
              " 'hao',\n",
              " 'hap',\n",
              " 'has',\n",
              " 'hay',\n",
              " 'he',\n",
              " 'hell',\n",
              " 'heng',\n",
              " 'her',\n",
              " 'herya',\n",
              " 'him',\n",
              " 'hinh',\n",
              " 'hiê',\n",
              " 'hiên',\n",
              " 'hiêng',\n",
              " 'hiêp',\n",
              " 'hiêr',\n",
              " 'hiêu',\n",
              " 'hiến',\n",
              " 'hiếu',\n",
              " 'hiền',\n",
              " 'hiều',\n",
              " 'hiển',\n",
              " 'hiểu',\n",
              " 'hiễn',\n",
              " 'hiện',\n",
              " 'hiệp',\n",
              " 'hiệu',\n",
              " 'hlak',\n",
              " 'hlui',\n",
              " 'ho',\n",
              " 'hoa',\n",
              " 'hoan',\n",
              " 'hoanh',\n",
              " 'hoat',\n",
              " 'hoen',\n",
              " 'hoi',\n",
              " 'hon',\n",
              " 'honl',\n",
              " 'hot',\n",
              " 'hoà',\n",
              " 'hoài',\n",
              " 'hoàn',\n",
              " 'hoàng',\n",
              " 'hoành',\n",
              " 'hoá',\n",
              " 'hoách',\n",
              " 'hoán',\n",
              " 'hoãn',\n",
              " 'hoè',\n",
              " 'hoèn',\n",
              " 'hoăn',\n",
              " 'hoạ',\n",
              " 'hoạch',\n",
              " 'hoại',\n",
              " 'hoạt',\n",
              " 'hoằng',\n",
              " 'hu',\n",
              " 'hua',\n",
              " 'huin',\n",
              " 'huy',\n",
              " 'huyl',\n",
              " 'huynh',\n",
              " 'huyê',\n",
              " 'huyên',\n",
              " 'huyến',\n",
              " 'huyết',\n",
              " 'huyền',\n",
              " 'huyển',\n",
              " 'huyện',\n",
              " 'huâ',\n",
              " 'huân',\n",
              " 'huê',\n",
              " 'huôi',\n",
              " 'huôl',\n",
              " 'huấn',\n",
              " 'huần',\n",
              " 'huế',\n",
              " 'huệ',\n",
              " 'huối',\n",
              " 'huỳn',\n",
              " 'huỳnh',\n",
              " 'huỵch',\n",
              " 'hy',\n",
              " 'hà',\n",
              " 'hài',\n",
              " 'hàm',\n",
              " 'hàn',\n",
              " 'hàng',\n",
              " 'hành',\n",
              " 'hào',\n",
              " 'hách',\n",
              " 'hái',\n",
              " 'hán',\n",
              " 'háo',\n",
              " 'hâ',\n",
              " 'hâm',\n",
              " 'hân',\n",
              " 'hâu',\n",
              " 'hãi',\n",
              " 'hãn',\n",
              " 'hãnh',\n",
              " 'hão',\n",
              " 'hè',\n",
              " 'hên',\n",
              " 'hìn',\n",
              " 'hình',\n",
              " 'hí',\n",
              " 'hính',\n",
              " 'híp',\n",
              " 'hò',\n",
              " 'hòa',\n",
              " 'hòai',\n",
              " 'hòang',\n",
              " 'hòe',\n",
              " 'hòn',\n",
              " 'hòs',\n",
              " 'hó',\n",
              " 'hóa',\n",
              " 'hól',\n",
              " 'hót',\n",
              " 'hô',\n",
              " 'hôi',\n",
              " 'hôl',\n",
              " 'hôm',\n",
              " 'hôn',\n",
              " 'hông',\n",
              " 'hùng',\n",
              " 'hùy',\n",
              " 'hùynh',\n",
              " 'húa',\n",
              " 'hăm',\n",
              " 'hăng',\n",
              " 'hĩm',\n",
              " 'hĩu',\n",
              " 'hơ',\n",
              " 'hơn',\n",
              " 'hư',\n",
              " 'hưn',\n",
              " 'hưng',\n",
              " 'hưũ',\n",
              " 'hươ',\n",
              " 'hương',\n",
              " 'hướn',\n",
              " 'hướng',\n",
              " 'hường',\n",
              " 'hưởng',\n",
              " 'hưỡng',\n",
              " 'hạ',\n",
              " 'hạc',\n",
              " 'hạn',\n",
              " 'hạng',\n",
              " 'hạnh',\n",
              " 'hạo',\n",
              " 'hạt',\n",
              " 'hải',\n",
              " 'hảnh',\n",
              " 'hảo',\n",
              " 'hấm',\n",
              " 'hầng',\n",
              " 'hầu',\n",
              " 'hận',\n",
              " 'hậu',\n",
              " 'hắc',\n",
              " 'hắm',\n",
              " 'hằng',\n",
              " 'hẳn',\n",
              " 'hẳng',\n",
              " 'hến',\n",
              " 'hề',\n",
              " 'hệ',\n",
              " 'hịu',\n",
              " 'họa',\n",
              " 'học',\n",
              " 'họp',\n",
              " 'hỏi',\n",
              " 'hỏn',\n",
              " 'hối',\n",
              " 'hồ',\n",
              " 'hồi',\n",
              " 'hồn',\n",
              " 'hồng',\n",
              " 'hổ',\n",
              " 'hổng',\n",
              " 'hộ',\n",
              " 'hội',\n",
              " 'hộp',\n",
              " 'hột',\n",
              " 'hớn',\n",
              " 'hờ',\n",
              " 'hởi',\n",
              " 'hợi',\n",
              " 'hợp',\n",
              " 'hứa',\n",
              " 'hừ',\n",
              " 'hừng',\n",
              " 'hửu',\n",
              " 'hữu',\n",
              " 'hựu',\n",
              " 'hỳnh',\n",
              " 'hỷ',\n",
              " 'hỹ',\n",
              " 'iar',\n",
              " 'im',\n",
              " 'in',\n",
              " 'inh',\n",
              " 'is',\n",
              " 'it',\n",
              " 'ja',\n",
              " 'jang',\n",
              " 'je',\n",
              " 'ji',\n",
              " 'jiang',\n",
              " 'jina',\n",
              " 'jiêm',\n",
              " 'jiệt',\n",
              " 'jokin',\n",
              " 'jong',\n",
              " 'jrang',\n",
              " 'ju',\n",
              " 'jum',\n",
              " 'jun',\n",
              " 'jác',\n",
              " 'jáp',\n",
              " 'jãn',\n",
              " 'jí',\n",
              " 'jít',\n",
              " 'jô',\n",
              " 'jôn',\n",
              " 'jôs',\n",
              " 'jă',\n",
              " 'jăn',\n",
              " 'jăng',\n",
              " 'jư',\n",
              " 'jương',\n",
              " 'jẵn',\n",
              " 'jẹ',\n",
              " 'jịu',\n",
              " 'jốs',\n",
              " 'ka',\n",
              " 'kan',\n",
              " 'kaoh',\n",
              " 'kas',\n",
              " 'kbril',\n",
              " 'keaut',\n",
              " 'kel',\n",
              " 'keo',\n",
              " 'kha',\n",
              " 'khai',\n",
              " 'kham',\n",
              " 'khan',\n",
              " 'khang',\n",
              " 'khanh',\n",
              " 'khel',\n",
              " 'khem',\n",
              " 'khen',\n",
              " 'khery',\n",
              " 'khim',\n",
              " 'khin',\n",
              " 'khinh',\n",
              " 'khiêm',\n",
              " 'khiên',\n",
              " 'khiêu',\n",
              " 'khiết',\n",
              " 'khiếu',\n",
              " 'khoa',\n",
              " 'khoan',\n",
              " 'khoang',\n",
              " 'khoe',\n",
              " 'khonh',\n",
              " 'khoái',\n",
              " 'khoáng',\n",
              " 'khoát',\n",
              " 'khoản',\n",
              " 'khu',\n",
              " 'khum',\n",
              " 'khunh',\n",
              " 'khuy',\n",
              " 'khuya',\n",
              " 'khuyên',\n",
              " 'khuyếch',\n",
              " 'khuyến',\n",
              " 'khuyết',\n",
              " 'khuê',\n",
              " 'khuất',\n",
              " 'khuể',\n",
              " 'khá',\n",
              " 'khách',\n",
              " 'khái',\n",
              " 'kháng',\n",
              " 'khánh',\n",
              " 'kháo',\n",
              " 'khát',\n",
              " 'khâm',\n",
              " 'khây',\n",
              " 'khã',\n",
              " 'khãi',\n",
              " 'khè',\n",
              " 'khé',\n",
              " 'khéo',\n",
              " 'khê',\n",
              " 'khêm',\n",
              " 'khên',\n",
              " 'khênh',\n",
              " 'khì',\n",
              " 'khìn',\n",
              " 'khô',\n",
              " 'khôi',\n",
              " 'khôn',\n",
              " 'không',\n",
              " 'khúc',\n",
              " 'khă',\n",
              " 'khăc',\n",
              " 'khăm',\n",
              " 'khăn',\n",
              " 'khơi',\n",
              " 'khương',\n",
              " 'khượpphạphon',\n",
              " 'khả',\n",
              " 'khải',\n",
              " 'khảm',\n",
              " 'khảo',\n",
              " 'khảy',\n",
              " 'khắc',\n",
              " 'khỏe',\n",
              " 'khổng',\n",
              " 'khởi',\n",
              " 'kim',\n",
              " 'king',\n",
              " 'kinh',\n",
              " 'kiu',\n",
              " 'kiê',\n",
              " 'kiêm',\n",
              " 'kiên',\n",
              " 'kiêng',\n",
              " 'kiêt',\n",
              " 'kiêu',\n",
              " 'kiếm',\n",
              " 'kiến',\n",
              " 'kiết',\n",
              " 'kiền',\n",
              " 'kiều',\n",
              " 'kiểm',\n",
              " 'kiển',\n",
              " 'kiệm',\n",
              " 'kiện',\n",
              " 'kiệt',\n",
              " 'kiột',\n",
              " 'klứk',\n",
              " 'ko',\n",
              " 'krist',\n",
              " 'kriêng',\n",
              " 'ky',\n",
              " 'ká',\n",
              " 'kén',\n",
              " 'kê',\n",
              " 'kìm',\n",
              " 'kình',\n",
              " 'kía',\n",
              " 'kín',\n",
              " 'kính',\n",
              " 'kòn',\n",
              " 'kông',\n",
              " 'kôr',\n",
              " 'ký',\n",
              " 'kđi',\n",
              " 'kơn',\n",
              " 'kẹo',\n",
              " 'kẹobunxay',\n",
              " 'kế',\n",
              " 'kết',\n",
              " 'kề',\n",
              " 'kều',\n",
              " 'kỉm',\n",
              " 'kỉn',\n",
              " 'kỉnh',\n",
              " 'kị',\n",
              " 'kịt',\n",
              " 'kừu',\n",
              " 'kỳ',\n",
              " 'kỵ',\n",
              " 'kỷ',\n",
              " 'kỹ',\n",
              " 'la',\n",
              " 'lagin',\n",
              " 'lai',\n",
              " 'lam',\n",
              " 'lan',\n",
              " 'lang',\n",
              " 'lanh',\n",
              " 'lao',\n",
              " 'laochôngcua',\n",
              " 'laoly',\n",
              " 'lau',\n",
              " 'lavi',\n",
              " 'lay',\n",
              " 'le',\n",
              " 'leh',\n",
              " 'lel',\n",
              " 'lem',\n",
              " 'len',\n",
              " 'lery',\n",
              " 'li',\n",
              " 'lia',\n",
              " 'lil',\n",
              " 'lim',\n",
              " 'lin',\n",
              " 'line',\n",
              " 'linh',\n",
              " 'linl',\n",
              " 'lis',\n",
              " 'lisa',\n",
              " 'liê',\n",
              " 'liêl',\n",
              " 'liêm',\n",
              " 'liên',\n",
              " 'liêng',\n",
              " 'liêu',\n",
              " 'liến',\n",
              " 'liếp',\n",
              " 'liếu',\n",
              " 'liền',\n",
              " 'liều',\n",
              " 'liểu',\n",
              " 'liễm',\n",
              " 'liễn',\n",
              " 'liễu',\n",
              " 'liệt',\n",
              " 'liệu',\n",
              " 'loan',\n",
              " 'lofi',\n",
              " 'long',\n",
              " 'loán',\n",
              " 'loáng',\n",
              " 'loại',\n",
              " 'loạt',\n",
              " 'lui',\n",
              " 'lung',\n",
              " 'luong',\n",
              " 'lus',\n",
              " 'luy',\n",
              " 'luyn',\n",
              " 'luynh',\n",
              " 'luyên',\n",
              " 'luyến',\n",
              " 'luyền',\n",
              " 'luyện',\n",
              " 'luân',\n",
              " 'luât',\n",
              " 'luôn',\n",
              " 'luận',\n",
              " 'luật',\n",
              " 'luỹ',\n",
              " 'ly',\n",
              " 'là',\n",
              " 'làc',\n",
              " ...]"
            ]
          },
          "metadata": {},
          "execution_count": 27
        }
      ]
    },
    {
      "cell_type": "code",
      "source": [
        "Y=VietNamelist.Gender.values.astype(str)"
      ],
      "metadata": {
        "id": "Dx-S2B6TinFj"
      },
      "execution_count": 30,
      "outputs": []
    },
    {
      "cell_type": "markdown",
      "source": [
        "Split dataset into 70% training, 30% test"
      ],
      "metadata": {
        "id": "TZqHZ2Go9UL3"
      }
    },
    {
      "cell_type": "code",
      "source": [
        "from sklearn.model_selection import train_test_split\n",
        "X_train,X_test,Y_train,Y_test=train_test_split(X,Y,test_size=0.30,random_state=42)\n",
        "print(X_train.shape,X_test.shape,Y_train.shape,Y_test.shape)"
      ],
      "metadata": {
        "id": "Tdanft1ed7s9",
        "colab": {
          "base_uri": "https://localhost:8080/"
        },
        "outputId": "e757d001-6ee2-4d22-933b-093112b1138a"
      },
      "execution_count": 32,
      "outputs": [
        {
          "output_type": "stream",
          "name": "stdout",
          "text": [
            "(52934, 2717) (22687, 2717) (52934,) (22687,)\n"
          ]
        }
      ]
    },
    {
      "cell_type": "markdown",
      "source": [
        "Using SVM to train data"
      ],
      "metadata": {
        "id": "XN3UzgGKC8TB"
      }
    },
    {
      "cell_type": "code",
      "source": [
        "from sklearn.svm import SVC\n",
        "svm=SVC()\n",
        "svm.fit(X_train,Y_train)\n",
        "svm.score(X_test,Y_test)\n",
        "y_pred=svm.predict(X_test)"
      ],
      "metadata": {
        "id": "Abwa7s61u5lR"
      },
      "execution_count": 33,
      "outputs": []
    },
    {
      "cell_type": "markdown",
      "source": [
        "Check accuracy"
      ],
      "metadata": {
        "id": "UqpwM3N2xQXW"
      }
    },
    {
      "cell_type": "code",
      "source": [
        "from sklearn.metrics import confusion_matrix\n",
        "from sklearn.metrics import classification_report\n",
        "from sklearn.metrics import accuracy_score\n",
        "print(confusion_matrix(Y_test, y_pred))\n",
        "print(classification_report(Y_test, y_pred))\n",
        "print('Accuracy:', str(accuracy_score(Y_test, y_pred)))"
      ],
      "metadata": {
        "id": "sL4GNvUrve2J",
        "colab": {
          "base_uri": "https://localhost:8080/"
        },
        "outputId": "584b5dd9-1adf-4239-b174-63a2f8e705ea"
      },
      "execution_count": 34,
      "outputs": [
        {
          "output_type": "stream",
          "name": "stdout",
          "text": [
            "[[11254   385]\n",
            " [  625 10423]]\n",
            "              precision    recall  f1-score   support\n",
            "\n",
            "           0       0.95      0.97      0.96     11639\n",
            "           1       0.96      0.94      0.95     11048\n",
            "\n",
            "    accuracy                           0.96     22687\n",
            "   macro avg       0.96      0.96      0.96     22687\n",
            "weighted avg       0.96      0.96      0.96     22687\n",
            "\n",
            "Accuracy: 0.9554811125314057\n"
          ]
        }
      ]
    },
    {
      "cell_type": "code",
      "source": [
        "print(\"Accuracy of Model on test set\",svm.score(X_test,Y_test)*100,\"%\")\n",
        "print(\"Accuracy of Model on train set\",svm.score(X_train,Y_train)*100,\"%\")"
      ],
      "metadata": {
        "colab": {
          "base_uri": "https://localhost:8080/"
        },
        "id": "ZCK4lTFwELxD",
        "outputId": "99d80480-9eb0-4f66-c30b-f93089f1b10c"
      },
      "execution_count": 35,
      "outputs": [
        {
          "output_type": "stream",
          "name": "stdout",
          "text": [
            "Accuracy of Model on test set 95.54811125314056 %\n",
            "Accuracy of Model on train set 96.86401934484452 %\n"
          ]
        }
      ]
    },
    {
      "cell_type": "markdown",
      "source": [
        "try sample"
      ],
      "metadata": {
        "id": "U3yylrvkMNUh"
      }
    },
    {
      "cell_type": "code",
      "source": [
        "test=[inputname]\n",
        "vect=cv.transform(test).toarray()\n",
        "result=svm.predict(vect)\n",
        "print(inputname)\n",
        "if result==\"0\":\n",
        "  print(\"Male\")\n",
        "elif result==\"1\": \n",
        "  print(\"Female\")"
      ],
      "metadata": {
        "colab": {
          "base_uri": "https://localhost:8080/"
        },
        "id": "MLRpLvZ0ufQm",
        "outputId": "d45f9484-4163-4406-8b94-93b5850281d4"
      },
      "execution_count": 36,
      "outputs": [
        {
          "output_type": "stream",
          "name": "stdout",
          "text": [
            "Thị Việt Cung\n",
            "Female\n"
          ]
        }
      ]
    },
    {
      "cell_type": "code",
      "source": [
        "sample_name3 = [\"Hà Nguyễn\",\"Văn Nam\",\"Trà My\",\"Việt Anh\",\"Trung Hiếu\",\"Phương Hà\",\"Phương Mi\",\"Nhật Trường\",\"Phương Vy\",\"Đại nam\",\"vi en\",\"Hòa Tiến\",\"Mai Anh\"]\n",
        "vect3 = cv.transform(sample_name3).toarray()"
      ],
      "metadata": {
        "id": "ZEUtSN8LMMp8"
      },
      "execution_count": 37,
      "outputs": []
    },
    {
      "cell_type": "code",
      "source": [
        "result=svm.predict(vect3)\n",
        "print(result)\n",
        "for n in result:\n",
        "  if n == \"1\":\n",
        "        print(\"Female\")\n",
        "  elif n==\"0\":\n",
        "        print(\"Male\")"
      ],
      "metadata": {
        "colab": {
          "base_uri": "https://localhost:8080/"
        },
        "id": "at3G725aMoPV",
        "outputId": "8f0e416c-d1b8-418c-c00f-3b18c3c00bd6"
      },
      "execution_count": 38,
      "outputs": [
        {
          "output_type": "stream",
          "name": "stdout",
          "text": [
            "['1' '0' '1' '0' '0' '1' '1' '0' '1' '0' '1' '0' '1']\n",
            "Female\n",
            "Male\n",
            "Female\n",
            "Male\n",
            "Male\n",
            "Female\n",
            "Female\n",
            "Male\n",
            "Female\n",
            "Male\n",
            "Female\n",
            "Male\n",
            "Female\n"
          ]
        }
      ]
    },
    {
      "cell_type": "markdown",
      "source": [
        "save model SVM"
      ],
      "metadata": {
        "id": "waXvhkie42Al"
      }
    },
    {
      "cell_type": "code",
      "source": [
        "# save the model to drive\n",
        "import pickle\n",
        "SVM_Model=open(\"SVM_model.pkl\",\"wb\")\n",
        "pickle.dump(svm,SVM_Model)\n",
        "SVM_Model.close()"
      ],
      "metadata": {
        "id": "UluQF-Vw43LO"
      },
      "execution_count": null,
      "outputs": []
    },
    {
      "cell_type": "markdown",
      "source": [
        "Load model SVM"
      ],
      "metadata": {
        "id": "wT0cwEbe-xbv"
      }
    },
    {
      "cell_type": "code",
      "source": [
        "# load the model \n",
        "import pickle\n",
        "pickled_model = pickle.load(open('/content/drive/My Drive/AI_Project/SVM_model.pkl', 'rb'))\n",
        "pickled_model.predict(X_test)\n",
        "result = pickled_model.score(X_test, Y_test)\n",
        "print(result)"
      ],
      "metadata": {
        "colab": {
          "base_uri": "https://localhost:8080/"
        },
        "id": "7_gwj7wPCu6_",
        "outputId": "98fbb85d-99b3-48d1-e199-c80f25aa1217"
      },
      "execution_count": null,
      "outputs": [
        {
          "output_type": "stream",
          "name": "stdout",
          "text": [
            "0.9554811125314057\n"
          ]
        }
      ]
    }
  ]
}