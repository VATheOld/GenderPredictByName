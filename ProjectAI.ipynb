{
  "nbformat": 4,
  "nbformat_minor": 0,
  "metadata": {
    "colab": {
      "name": "ProjectAI.ipynb",
      "provenance": [],
      "collapsed_sections": [],
      "include_colab_link": true
    },
    "kernelspec": {
      "name": "python3",
      "display_name": "Python 3"
    },
    "language_info": {
      "name": "python"
    }
  },
  "cells": [
    {
      "cell_type": "markdown",
      "metadata": {
        "id": "view-in-github",
        "colab_type": "text"
      },
      "source": [
        "<a href=\"https://colab.research.google.com/github/VATheOld/GenderPredictByName/blob/main/ProjectAI.ipynb\" target=\"_parent\"><img src=\"https://colab.research.google.com/assets/colab-badge.svg\" alt=\"Open In Colab\"/></a>"
      ]
    },
    {
      "cell_type": "markdown",
      "source": [
        "Import Machine Learning package"
      ],
      "metadata": {
        "id": "sUIOe_oLeJc3"
      }
    },
    {
      "cell_type": "code",
      "source": [
        "import pandas as pd\n",
        "import numpy as np\n",
        "from sklearn import svm\n",
        "from sklearn.feature_extraction.text import CountVectorizer"
      ],
      "metadata": {
        "id": "KIlc8LWfdffC"
      },
      "execution_count": null,
      "outputs": []
    },
    {
      "cell_type": "code",
      "source": [
        "from google.colab import drive\n",
        "drive.mount('/content/drive')"
      ],
      "metadata": {
        "id": "CDAquxbtgW9U",
        "colab": {
          "base_uri": "https://localhost:8080/"
        },
        "outputId": "bea0b6e9-393d-472d-bb01-db827fd11e88"
      },
      "execution_count": null,
      "outputs": [
        {
          "output_type": "stream",
          "name": "stdout",
          "text": [
            "Mounted at /content/drive\n"
          ]
        }
      ]
    },
    {
      "cell_type": "markdown",
      "source": [
        "Enter Vietnamese or english name:"
      ],
      "metadata": {
        "id": "HMiWTUlT8bpE"
      }
    },
    {
      "cell_type": "code",
      "execution_count": null,
      "metadata": {
        "colab": {
          "base_uri": "https://localhost:8080/"
        },
        "id": "8-ZmZy-38bG5",
        "outputId": "120f4a0d-28d1-4cd2-b67f-f42cf42f239e"
      },
      "outputs": [
        {
          "output_type": "stream",
          "name": "stdout",
          "text": [
            "Enter 1 for input Vietnamese name, 2 for English name:1\n",
            "Enter Vietnamese name:Lê Thị Thanh Hồng\n",
            "inname: Thị Thanh Hồng\n"
          ]
        }
      ],
      "source": [
        "choice=input(\"Enter 1 for input Vietnamese name, 2 for English name:\")\n",
        "if choice==\"1\":\n",
        "    name=input(\"Enter Vietnamese name:\")\n",
        "    name=name.title()\n",
        "    componentName=name.split(\" \")\n",
        "    middleName=componentName[1:len(componentName)-1]\n",
        "    firstName=componentName[len(componentName)-1:]\n",
        "    name=middleName+firstName\n",
        "    inputname=\" \".join(name)\n",
        "    print(\"inname:\",inputname)\n",
        "elif choice==\"2\":\n",
        "    name=input(\"Enter English name:\")\n",
        "    componentName=name.split(\" \")\n",
        "    print(componentName)\n",
        "    for component in range(len(componentName)):\n",
        "        firstName=componentName[0]\n",
        "    print(firstName)"
      ]
    },
    {
      "cell_type": "markdown",
      "source": [
        "Import datasets:"
      ],
      "metadata": {
        "id": "l9k0Dv4Mfv06"
      }
    },
    {
      "cell_type": "markdown",
      "source": [
        "**Eng name code**"
      ],
      "metadata": {
        "id": "6v0hxpAzLOLi"
      }
    },
    {
      "cell_type": "markdown",
      "source": [
        "Get column name and gender and change M to 0, F to 1"
      ],
      "metadata": {
        "id": "j1tfmBYkIeN0"
      }
    },
    {
      "cell_type": "code",
      "source": [
        "co_l=[\"Name\",\"Gender\"]\n",
        "engNamelist=pd.read_csv('/content/drive/My Drive/AI_Project/Eng_name_gender_dataset.csv',usecols=co_l)\n",
        "engNamelist.Gender.replace({\"M\":0,\"F\":1},inplace=True)\n",
        "print(engNamelist)"
      ],
      "metadata": {
        "colab": {
          "base_uri": "https://localhost:8080/"
        },
        "id": "VRMtdN_nIZkQ",
        "outputId": "4a6b15fe-a814-4745-df17-21cb07463e73"
      },
      "execution_count": null,
      "outputs": [
        {
          "output_type": "stream",
          "name": "stdout",
          "text": [
            "             Name  Gender\n",
            "0           James       0\n",
            "1            John       0\n",
            "2          Robert       0\n",
            "3         Michael       0\n",
            "4         William       0\n",
            "...           ...     ...\n",
            "528249   Zyleigh        1\n",
            "528250     Zylie        1\n",
            "528251    Zylpha        1\n",
            "528252       Zyna       1\n",
            "528253  Zyra-Mae        1\n",
            "\n",
            "[528254 rows x 2 columns]\n"
          ]
        }
      ]
    },
    {
      "cell_type": "code",
      "source": [
        "def features(name):\n",
        "    name = name.lower()\n",
        "    return {\n",
        "        'first-letter': name[0], # First letter\n",
        "        'first2-letters': name[0:2], # First 2 letters\n",
        "        'first3-letters': name[0:3], # First 3 letters\n",
        "        'last-letter': name[-1],\n",
        "        'last2-letters': name[-2:],\n",
        "        'last3-letters': name[-3:],\n",
        "    }"
      ],
      "metadata": {
        "id": "P0crC3Nu6Um6"
      },
      "execution_count": null,
      "outputs": []
    },
    {
      "cell_type": "code",
      "source": [
        "features = np.vectorize(features)\n",
        "print(features([\"Anna\", \"Hannah\", \"Peter\",\"John\",\"Vladmir\",\"Mohammed\"]))"
      ],
      "metadata": {
        "id": "u9hRGDio6Xrz",
        "colab": {
          "base_uri": "https://localhost:8080/"
        },
        "outputId": "03882bd9-4b31-49bf-a525-de8849a7da63"
      },
      "execution_count": null,
      "outputs": [
        {
          "output_type": "stream",
          "name": "stdout",
          "text": [
            "[{'first-letter': 'a', 'first2-letters': 'an', 'first3-letters': 'ann', 'last-letter': 'a', 'last2-letters': 'na', 'last3-letters': 'nna'}\n",
            " {'first-letter': 'h', 'first2-letters': 'ha', 'first3-letters': 'han', 'last-letter': 'h', 'last2-letters': 'ah', 'last3-letters': 'nah'}\n",
            " {'first-letter': 'p', 'first2-letters': 'pe', 'first3-letters': 'pet', 'last-letter': 'r', 'last2-letters': 'er', 'last3-letters': 'ter'}\n",
            " {'first-letter': 'j', 'first2-letters': 'jo', 'first3-letters': 'joh', 'last-letter': 'n', 'last2-letters': 'hn', 'last3-letters': 'ohn'}\n",
            " {'first-letter': 'v', 'first2-letters': 'vl', 'first3-letters': 'vla', 'last-letter': 'r', 'last2-letters': 'ir', 'last3-letters': 'mir'}\n",
            " {'first-letter': 'm', 'first2-letters': 'mo', 'first3-letters': 'moh', 'last-letter': 'd', 'last2-letters': 'ed', 'last3-letters': 'med'}]\n"
          ]
        }
      ]
    },
    {
      "cell_type": "code",
      "source": [
        "# Extract the features for the dataset\n",
        "df_X = features(engNamelist['Name'])\n",
        "print(df_X)"
      ],
      "metadata": {
        "id": "OH5Jllbp6dCK",
        "colab": {
          "base_uri": "https://localhost:8080/"
        },
        "outputId": "302e5241-ee48-433e-d131-8a117cc2961d"
      },
      "execution_count": null,
      "outputs": [
        {
          "output_type": "stream",
          "name": "stdout",
          "text": [
            "[{'first-letter': 'j', 'first2-letters': 'ja', 'first3-letters': 'jam', 'last-letter': 's', 'last2-letters': 'es', 'last3-letters': 'mes'}\n",
            " {'first-letter': 'j', 'first2-letters': 'jo', 'first3-letters': 'joh', 'last-letter': 'n', 'last2-letters': 'hn', 'last3-letters': 'ohn'}\n",
            " {'first-letter': 'r', 'first2-letters': 'ro', 'first3-letters': 'rob', 'last-letter': 't', 'last2-letters': 'rt', 'last3-letters': 'ert'}\n",
            " ...\n",
            " {'first-letter': 'z', 'first2-letters': 'zy', 'first3-letters': 'zyl', 'last-letter': ' ', 'last2-letters': 'a ', 'last3-letters': 'ha '}\n",
            " {'first-letter': 'z', 'first2-letters': 'zy', 'first3-letters': 'zyn', 'last-letter': 'a', 'last2-letters': 'na', 'last3-letters': 'yna'}\n",
            " {'first-letter': 'z', 'first2-letters': 'zy', 'first3-letters': 'zyr', 'last-letter': ' ', 'last2-letters': 'e ', 'last3-letters': 'ae '}]\n"
          ]
        }
      ]
    },
    {
      "cell_type": "code",
      "source": [
        "df_y = engNamelist['Gender']"
      ],
      "metadata": {
        "id": "ZHxwRfnu6ki4"
      },
      "execution_count": null,
      "outputs": []
    },
    {
      "cell_type": "code",
      "source": [
        "from sklearn.feature_extraction import DictVectorizer\n",
        " \n",
        "corpus = features([\"Mike\", \"Julia\"])\n",
        "dv = DictVectorizer()\n",
        "dv.fit(corpus)\n",
        "transformed = dv.transform(corpus)\n",
        "print(transformed)"
      ],
      "metadata": {
        "colab": {
          "base_uri": "https://localhost:8080/"
        },
        "id": "_piCR3zF6r4K",
        "outputId": "9ee094df-5b90-4b85-b4ee-427c4154e373"
      },
      "execution_count": null,
      "outputs": [
        {
          "output_type": "stream",
          "name": "stdout",
          "text": [
            "  (0, 1)\t1.0\n",
            "  (0, 3)\t1.0\n",
            "  (0, 5)\t1.0\n",
            "  (0, 7)\t1.0\n",
            "  (0, 9)\t1.0\n",
            "  (0, 10)\t1.0\n",
            "  (1, 0)\t1.0\n",
            "  (1, 2)\t1.0\n",
            "  (1, 4)\t1.0\n",
            "  (1, 6)\t1.0\n",
            "  (1, 8)\t1.0\n",
            "  (1, 11)\t1.0\n"
          ]
        }
      ]
    },
    {
      "cell_type": "code",
      "source": [
        "dv.get_feature_names()"
      ],
      "metadata": {
        "id": "NEM5Pf4y6wDw",
        "colab": {
          "base_uri": "https://localhost:8080/"
        },
        "outputId": "4ef17f67-dbf8-4bc3-ff8f-6c88f4bfc66e"
      },
      "execution_count": null,
      "outputs": [
        {
          "output_type": "stream",
          "name": "stderr",
          "text": [
            "/usr/local/lib/python3.7/dist-packages/sklearn/utils/deprecation.py:87: FutureWarning: Function get_feature_names is deprecated; get_feature_names is deprecated in 1.0 and will be removed in 1.2. Please use get_feature_names_out instead.\n",
            "  warnings.warn(msg, category=FutureWarning)\n"
          ]
        },
        {
          "output_type": "execute_result",
          "data": {
            "text/plain": [
              "['first-letter=j',\n",
              " 'first-letter=m',\n",
              " 'first2-letters=ju',\n",
              " 'first2-letters=mi',\n",
              " 'first3-letters=jul',\n",
              " 'first3-letters=mik',\n",
              " 'last-letter=a',\n",
              " 'last-letter=e',\n",
              " 'last2-letters=ia',\n",
              " 'last2-letters=ke',\n",
              " 'last3-letters=ike',\n",
              " 'last3-letters=lia']"
            ]
          },
          "metadata": {},
          "execution_count": 9
        }
      ]
    },
    {
      "cell_type": "code",
      "source": [
        "# Train Test Split\n",
        "from sklearn.model_selection import train_test_split\n",
        "dfX_train, dfX_test, dfy_train, dfy_test = train_test_split(df_X, df_y, test_size=0.33, random_state=42)\n",
        "print(dfX_train.shape, dfX_test.shape, dfy_train.shape, dfy_test.shape)"
      ],
      "metadata": {
        "id": "p_YPfh0I63a3",
        "colab": {
          "base_uri": "https://localhost:8080/"
        },
        "outputId": "d046f1fc-26f5-432d-a145-c1955a266b61"
      },
      "execution_count": null,
      "outputs": [
        {
          "output_type": "stream",
          "name": "stdout",
          "text": [
            "(353930,) (174324,) (353930,) (174324,)\n"
          ]
        }
      ]
    },
    {
      "cell_type": "code",
      "source": [
        "dv = DictVectorizer()\n",
        "dv.fit_transform(dfX_train)"
      ],
      "metadata": {
        "colab": {
          "base_uri": "https://localhost:8080/"
        },
        "id": "9OIL_C2U6-vc",
        "outputId": "4e4c956e-21af-4b23-e961-0eb3339b0a82"
      },
      "execution_count": null,
      "outputs": [
        {
          "output_type": "execute_result",
          "data": {
            "text/plain": [
              "<353930x13720 sparse matrix of type '<class 'numpy.float64'>'\n",
              "\twith 2123580 stored elements in Compressed Sparse Row format>"
            ]
          },
          "metadata": {},
          "execution_count": 11
        }
      ]
    },
    {
      "cell_type": "code",
      "source": [
        "# Model building Using DecisionTree\n",
        "\n",
        "from sklearn.tree import DecisionTreeClassifier\n",
        " \n",
        "dclf = DecisionTreeClassifier()\n",
        "my_xfeatures =dv.transform(dfX_train)\n",
        "dclf.fit(my_xfeatures, dfy_train)\n",
        "test_xfeatures =dv.transform(dfX_test)\n",
        "y_pred=dclf.predict(test_xfeatures)\n",
        "print(y_pred)"
      ],
      "metadata": {
        "id": "2-UzTE177Czr",
        "colab": {
          "base_uri": "https://localhost:8080/"
        },
        "outputId": "2742bfea-e10e-49f8-caef-a78a83a57c33"
      },
      "execution_count": null,
      "outputs": [
        {
          "output_type": "stream",
          "name": "stdout",
          "text": [
            "[0 1 1 ... 1 1 1]\n"
          ]
        }
      ]
    },
    {
      "cell_type": "code",
      "source": [
        "from sklearn.metrics import confusion_matrix\n",
        "from sklearn.metrics import classification_report\n",
        "from sklearn.metrics import accuracy_score\n",
        "print(confusion_matrix(dfy_test, y_pred))\n",
        "print(classification_report(dfy_test, y_pred))\n",
        "print('Accuracy:', str(accuracy_score(dfy_test, y_pred)))\n",
        "print('Accuracy:', str(accuracy_score(y_pred,dfy_test)))"
      ],
      "metadata": {
        "colab": {
          "base_uri": "https://localhost:8080/"
        },
        "id": "TMDUnIc0GyCS",
        "outputId": "b6c9871e-50d4-4ca3-8055-583d37297df1"
      },
      "execution_count": null,
      "outputs": [
        {
          "output_type": "stream",
          "name": "stdout",
          "text": [
            "[[61281 12292]\n",
            " [14732 86019]]\n",
            "              precision    recall  f1-score   support\n",
            "\n",
            "           0       0.81      0.83      0.82     73573\n",
            "           1       0.87      0.85      0.86    100751\n",
            "\n",
            "    accuracy                           0.84    174324\n",
            "   macro avg       0.84      0.84      0.84    174324\n",
            "weighted avg       0.85      0.84      0.85    174324\n",
            "\n",
            "Accuracy: 0.8449783162387279\n",
            "Accuracy: 0.8449783162387279\n"
          ]
        }
      ]
    },
    {
      "cell_type": "code",
      "source": [
        "# Accuracy on training set\n",
        "print(dclf.score(dv.transform(dfX_train), dfy_train)) "
      ],
      "metadata": {
        "colab": {
          "base_uri": "https://localhost:8080/"
        },
        "id": "NblampBN7HsW",
        "outputId": "f7576a55-f625-4fbc-837a-33cb0123f56b"
      },
      "execution_count": null,
      "outputs": [
        {
          "output_type": "stream",
          "name": "stdout",
          "text": [
            "0.9197185884214393\n"
          ]
        }
      ]
    },
    {
      "cell_type": "code",
      "source": [
        "# Accuracy on test set\n",
        "print(dclf.score(dv.transform(dfX_test), dfy_test))"
      ],
      "metadata": {
        "colab": {
          "base_uri": "https://localhost:8080/"
        },
        "id": "f3DCvCAm7RU-",
        "outputId": "81f6da8c-9bdc-4db1-d081-14f51ccdddf8"
      },
      "execution_count": null,
      "outputs": [
        {
          "output_type": "stream",
          "name": "stdout",
          "text": [
            "0.8449783162387279\n"
          ]
        }
      ]
    },
    {
      "cell_type": "code",
      "source": [
        "sample_name3 = [\"Susan\",\"Emily\",\"Hans\",\"John\",\"Marco\",\"Sayla\",\"Mamon\"]"
      ],
      "metadata": {
        "id": "8iERNQYaHOJS"
      },
      "execution_count": null,
      "outputs": []
    },
    {
      "cell_type": "code",
      "source": [
        "# Fuction to predict using Decision Tree Model\n",
        "def engNameGenderPredict(name):\n",
        "    n=[name]\n",
        "    vector=dv.transform(features(n)).toarray()\n",
        "    result=dclf.predict(vector)\n",
        "    if result == 1:\n",
        "        print(\"Female\")\n",
        "    elif result == 0:\n",
        "        print(\"Male\")"
      ],
      "metadata": {
        "id": "ohqQpoHNyJaP"
      },
      "execution_count": null,
      "outputs": []
    },
    {
      "cell_type": "code",
      "source": [
        "for n in sample_name3:\n",
        "     engNameGenderPredict(n)"
      ],
      "metadata": {
        "colab": {
          "base_uri": "https://localhost:8080/"
        },
        "id": "S17vKQWQydGw",
        "outputId": "ece067dd-5832-4d2f-8e12-535a8cc7da69"
      },
      "execution_count": null,
      "outputs": [
        {
          "output_type": "stream",
          "name": "stdout",
          "text": [
            "Female\n",
            "Female\n",
            "Male\n",
            "Male\n",
            "Male\n",
            "Female\n",
            "Female\n"
          ]
        }
      ]
    },
    {
      "cell_type": "code",
      "source": [
        "#Test input\n",
        "engName=firstName\n",
        "print(engName)\n",
        "engNameGenderPredict(engName)"
      ],
      "metadata": {
        "colab": {
          "base_uri": "https://localhost:8080/"
        },
        "id": "-oIPK6Kz0NnB",
        "outputId": "7c8cc746-759b-474f-a3d8-2dc39e41a4e5"
      },
      "execution_count": null,
      "outputs": [
        {
          "output_type": "stream",
          "name": "stdout",
          "text": [
            "Jeanne\n",
            "Female\n"
          ]
        }
      ]
    },
    {
      "cell_type": "code",
      "source": [
        "# save model\n",
        "import pickle\n",
        "dctreeModel = open(\"DecisionTree_Model.pkl\",\"wb\")\n",
        "pickle.dump(dclf,dctreeModel)\n",
        "dctreeModel.close()"
      ],
      "metadata": {
        "id": "aLI4HI9-9-Uz"
      },
      "execution_count": null,
      "outputs": []
    },
    {
      "cell_type": "code",
      "source": [
        "# load the model\n",
        "\n",
        "import pickle\n",
        "pickled_model = pickle.load(open('/content/drive/My Drive/AI_Project/DecisionTree_Model.pkl', 'rb'))\n",
        "pickled_model.predict(dv.transform(dfX_test))\n",
        "result = pickled_model.score(dv.transform(dfX_test),dfy_test)\n",
        "print(result)"
      ],
      "metadata": {
        "colab": {
          "base_uri": "https://localhost:8080/"
        },
        "id": "58X0Zj4lBOMT",
        "outputId": "1efec990-a604-4e7a-f61a-5264a94d7236"
      },
      "execution_count": null,
      "outputs": [
        {
          "output_type": "stream",
          "name": "stdout",
          "text": [
            "0.84528234781212\n"
          ]
        }
      ]
    },
    {
      "cell_type": "markdown",
      "source": [
        "**Vietnam Name code**"
      ],
      "metadata": {
        "id": "w0gAzvdFLFl5"
      }
    },
    {
      "cell_type": "markdown",
      "source": [
        "Get Vietnamese dataset and set Male as 0, Female as 1"
      ],
      "metadata": {
        "id": "fbYRpmAnXBGU"
      }
    },
    {
      "cell_type": "code",
      "source": [
        "col=['Name','Gender']\n",
        "VietNamelist=pd.read_csv('/content/drive/My Drive/AI_Project/Vietnamese_Name_gender.csv',usecols=col)\n",
        "VietNamelist.Gender.replace({\"M\":0,\"F\":1},inplace=True)\n",
        "print(VietNamelist)"
      ],
      "metadata": {
        "colab": {
          "base_uri": "https://localhost:8080/"
        },
        "id": "AArc7EhgUrPX",
        "outputId": "c429ffdc-d70d-42a8-d183-70ecd267e2a7"
      },
      "execution_count": null,
      "outputs": [
        {
          "output_type": "stream",
          "name": "stdout",
          "text": [
            "               Name Gender\n",
            "0        phương anh      1\n",
            "1        phương mai      1\n",
            "2        phương nam      0\n",
            "3        quang minh      0\n",
            "4        quang vinh      0\n",
            "...             ...    ...\n",
            "75616       Tiến Sỹ      0\n",
            "75617     Thị Huyền      1\n",
            "75618  Keaut Vannet      0\n",
            "75619       Thị Huê      1\n",
            "75620      Xuân Đại      0\n",
            "\n",
            "[75621 rows x 2 columns]\n"
          ]
        }
      ]
    },
    {
      "cell_type": "code",
      "source": [
        "VietNamelist['Name']=VietNamelist['Name'].str.lower()\n",
        "print(VietNamelist['Name'])"
      ],
      "metadata": {
        "id": "kqSH4xYxFSII",
        "colab": {
          "base_uri": "https://localhost:8080/"
        },
        "outputId": "4b55d93a-d991-454b-c860-b086e82461a7"
      },
      "execution_count": null,
      "outputs": [
        {
          "output_type": "stream",
          "name": "stdout",
          "text": [
            "0          phương anh\n",
            "1          phương mai\n",
            "2          phương nam\n",
            "3          quang minh\n",
            "4          quang vinh\n",
            "             ...     \n",
            "75616         tiến sỹ\n",
            "75617       thị huyền\n",
            "75618    keaut vannet\n",
            "75619         thị huê\n",
            "75620        xuân đại\n",
            "Name: Name, Length: 75621, dtype: object\n"
          ]
        }
      ]
    },
    {
      "cell_type": "code",
      "source": [
        "Xfeature=VietNamelist['Name']\n",
        "cv=CountVectorizer()\n",
        "X=cv.fit_transform(VietNamelist['Name'].values.astype(str))\n",
        "print(X.toarray())"
      ],
      "metadata": {
        "id": "ZW6tWKSKcod0",
        "colab": {
          "base_uri": "https://localhost:8080/"
        },
        "outputId": "bc16d56c-a8a7-4e8b-d163-53808e1b2388"
      },
      "execution_count": null,
      "outputs": [
        {
          "output_type": "stream",
          "name": "stdout",
          "text": [
            "[[0 0 0 ... 0 0 0]\n",
            " [0 0 0 ... 0 0 0]\n",
            " [0 0 0 ... 0 0 0]\n",
            " ...\n",
            " [0 0 0 ... 0 0 0]\n",
            " [0 0 0 ... 0 0 0]\n",
            " [0 0 0 ... 0 0 0]]\n"
          ]
        }
      ]
    },
    {
      "cell_type": "code",
      "source": [
        "cv.get_feature_names()"
      ],
      "metadata": {
        "id": "7H_Sdx4K_qbk"
      },
      "execution_count": null,
      "outputs": []
    },
    {
      "cell_type": "code",
      "source": [
        "Y=VietNamelist.Gender.values.astype(str)\n",
        "print(Y)"
      ],
      "metadata": {
        "id": "Dx-S2B6TinFj",
        "colab": {
          "base_uri": "https://localhost:8080/"
        },
        "outputId": "c50763da-372d-4f9b-b8a5-256bf2cbd9ae"
      },
      "execution_count": null,
      "outputs": [
        {
          "output_type": "stream",
          "name": "stdout",
          "text": [
            "['1' '1' '0' ... '0' '1' '0']\n"
          ]
        }
      ]
    },
    {
      "cell_type": "markdown",
      "source": [
        "Split dataset into 70% training, 30% test"
      ],
      "metadata": {
        "id": "TZqHZ2Go9UL3"
      }
    },
    {
      "cell_type": "code",
      "source": [
        "from sklearn.model_selection import train_test_split\n",
        "X_train,X_test,Y_train,Y_test=train_test_split(X,Y,test_size=0.30,random_state=42)\n",
        "print(X_train.shape,X_test.shape,Y_train.shape,Y_test.shape)"
      ],
      "metadata": {
        "id": "Tdanft1ed7s9",
        "colab": {
          "base_uri": "https://localhost:8080/"
        },
        "outputId": "44d6dd2d-b41f-40d7-d125-1b0ad90c13b7"
      },
      "execution_count": null,
      "outputs": [
        {
          "output_type": "stream",
          "name": "stdout",
          "text": [
            "(52934, 2717) (22687, 2717) (52934,) (22687,)\n"
          ]
        }
      ]
    },
    {
      "cell_type": "markdown",
      "source": [
        "Using SVM to train data"
      ],
      "metadata": {
        "id": "XN3UzgGKC8TB"
      }
    },
    {
      "cell_type": "code",
      "source": [
        "from sklearn.svm import SVC\n",
        "svm=SVC()\n",
        "svm.fit(X_train,Y_train)\n",
        "svm.score(X_test,Y_test)\n",
        "y_pred=svm.predict(X_test)"
      ],
      "metadata": {
        "id": "Abwa7s61u5lR"
      },
      "execution_count": null,
      "outputs": []
    },
    {
      "cell_type": "markdown",
      "source": [
        "Check accuracy"
      ],
      "metadata": {
        "id": "UqpwM3N2xQXW"
      }
    },
    {
      "cell_type": "code",
      "source": [
        "from sklearn.metrics import confusion_matrix\n",
        "from sklearn.metrics import classification_report\n",
        "from sklearn.metrics import accuracy_score\n",
        "print(confusion_matrix(Y_test, y_pred))\n",
        "print(classification_report(Y_test, y_pred))\n",
        "print('Accuracy:', str(accuracy_score(Y_test, y_pred)))"
      ],
      "metadata": {
        "id": "sL4GNvUrve2J",
        "colab": {
          "base_uri": "https://localhost:8080/"
        },
        "outputId": "36f91456-89e6-46c3-c26b-0080a3312c9d"
      },
      "execution_count": null,
      "outputs": [
        {
          "output_type": "stream",
          "name": "stdout",
          "text": [
            "[[11254   385]\n",
            " [  625 10423]]\n",
            "              precision    recall  f1-score   support\n",
            "\n",
            "           0       0.95      0.97      0.96     11639\n",
            "           1       0.96      0.94      0.95     11048\n",
            "\n",
            "    accuracy                           0.96     22687\n",
            "   macro avg       0.96      0.96      0.96     22687\n",
            "weighted avg       0.96      0.96      0.96     22687\n",
            "\n",
            "Accuracy: 0.9554811125314057\n"
          ]
        }
      ]
    },
    {
      "cell_type": "code",
      "source": [
        "print(\"Accuracy of Model on test set\",svm.score(X_test,Y_test)*100,\"%\")\n",
        "print(\"Accuracy of Model on train set\",svm.score(X_train,Y_train)*100,\"%\")"
      ],
      "metadata": {
        "colab": {
          "base_uri": "https://localhost:8080/"
        },
        "id": "ZCK4lTFwELxD",
        "outputId": "e2903e11-0787-4d3e-c463-be27c1f3d62d"
      },
      "execution_count": null,
      "outputs": [
        {
          "output_type": "stream",
          "name": "stdout",
          "text": [
            "Accuracy of Model on test set 95.54811125314056 %\n",
            "Accuracy of Model on train set 96.86401934484452 %\n"
          ]
        }
      ]
    },
    {
      "cell_type": "markdown",
      "source": [
        "try sample"
      ],
      "metadata": {
        "id": "U3yylrvkMNUh"
      }
    },
    {
      "cell_type": "code",
      "source": [
        "test=[inputname]\n",
        "vect=cv.transform(test).toarray()\n",
        "result=svm.predict(vect)\n",
        "if result==\"0\":\n",
        "  print(\"Male\")\n",
        "elif result==\"1\": \n",
        "  print(\"Female\")"
      ],
      "metadata": {
        "colab": {
          "base_uri": "https://localhost:8080/"
        },
        "id": "MLRpLvZ0ufQm",
        "outputId": "1cfa45ba-7668-4068-fccf-e080029728fa"
      },
      "execution_count": null,
      "outputs": [
        {
          "output_type": "stream",
          "name": "stdout",
          "text": [
            "Female\n"
          ]
        }
      ]
    },
    {
      "cell_type": "code",
      "source": [
        "sample_name3 = [\"Hà Nguyễn\",\"Văn Nam\",\"Trà My\",\"Việt Anh\",\"Trung Hiếu\",\"Phương Hà\",\"Phương Mi\",\"Nhật Trường\",\"Phương Vy\",\"Đại nam\",\"vi en\",\"Hòa Tiến\",\"Mai Anh\"]\n",
        "vect3 = cv.transform(sample_name3).toarray()"
      ],
      "metadata": {
        "id": "ZEUtSN8LMMp8"
      },
      "execution_count": null,
      "outputs": []
    },
    {
      "cell_type": "code",
      "source": [
        "result=svm.predict(vect3)\n",
        "print(result)\n",
        "for n in result:\n",
        "  if n == \"1\":\n",
        "        print(\"Female\")\n",
        "  elif n==\"0\":\n",
        "        print(\"Male\")"
      ],
      "metadata": {
        "colab": {
          "base_uri": "https://localhost:8080/"
        },
        "id": "at3G725aMoPV",
        "outputId": "79c732c9-12fa-40d2-9327-7838a827be8b"
      },
      "execution_count": null,
      "outputs": [
        {
          "output_type": "stream",
          "name": "stdout",
          "text": [
            "['1' '0' '1' '0' '0' '1' '1' '0' '1' '0' '1' '0' '1']\n",
            "Female\n",
            "Male\n",
            "Female\n",
            "Male\n",
            "Male\n",
            "Female\n",
            "Female\n",
            "Male\n",
            "Female\n",
            "Male\n",
            "Female\n",
            "Male\n",
            "Female\n"
          ]
        }
      ]
    },
    {
      "cell_type": "markdown",
      "source": [
        "save model SVM"
      ],
      "metadata": {
        "id": "waXvhkie42Al"
      }
    },
    {
      "cell_type": "code",
      "source": [
        "# save the model to drive\n",
        "import pickle\n",
        "SVM_Model=open(\"SVM_model.pkl\",\"wb\")\n",
        "pickle.dump(svm,SVM_Model)\n",
        "SVM_Model.close()"
      ],
      "metadata": {
        "id": "UluQF-Vw43LO"
      },
      "execution_count": null,
      "outputs": []
    },
    {
      "cell_type": "markdown",
      "source": [
        "Load model SVM"
      ],
      "metadata": {
        "id": "wT0cwEbe-xbv"
      }
    },
    {
      "cell_type": "code",
      "source": [
        "# load the model \n",
        "import pickle\n",
        "pickled_model = pickle.load(open('/content/drive/My Drive/AI_Project/SVM_model.pkl', 'rb'))\n",
        "pickled_model.predict(X_test)\n",
        "result = pickled_model.score(X_test, Y_test)\n",
        "print(result)"
      ],
      "metadata": {
        "colab": {
          "base_uri": "https://localhost:8080/"
        },
        "id": "7_gwj7wPCu6_",
        "outputId": "98fbb85d-99b3-48d1-e199-c80f25aa1217"
      },
      "execution_count": null,
      "outputs": [
        {
          "output_type": "stream",
          "name": "stdout",
          "text": [
            "0.9554811125314057\n"
          ]
        }
      ]
    },
    {
      "cell_type": "code",
      "source": [
        "VietNamelist=pd.read_csv('/content/drive/My Drive/AI_Project/TestVietData.csv')\n",
        "col=['Họ và tên ','Giới tính']\n",
        "VietNamelist=VietNamelist[col]\n",
        "VietNamelist['Họ và tên ']=VietNamelist['Họ và tên '].str.lower()\n",
        "print(VietNamelist)\n",
        "Xfeature=VietNamelist['Họ và tên ']\n",
        "cv=CountVectorizer()\n",
        "X=cv.fit_transform(VietNamelist['Họ và tên '].values.astype(str))\n",
        "Y=VietNamelist['Giới tính'].values.astype(str)"
      ],
      "metadata": {
        "colab": {
          "base_uri": "https://localhost:8080/"
        },
        "id": "9cXPjDCV3ImR",
        "outputId": "7a991f55-4c62-490b-d554-9398844318c9"
      },
      "execution_count": null,
      "outputs": [
        {
          "output_type": "stream",
          "name": "stdout",
          "text": [
            "                Họ và tên  Giới tính\n",
            "0              bùi bảo anh         0\n",
            "1            bùi đại nghĩa         1\n",
            "2            bùi đăng khoa         1\n",
            "3     bùi hoành phương anh         0\n",
            "4          bùi khôi nguyên         1\n",
            "..                     ...       ...\n",
            "448          lê tuấn khang         1\n",
            "449   nguyễn ngọc minh trà         0\n",
            "450            lê văn tiến         1\n",
            "451         trương gia hân         1\n",
            "452  nguyễn song duy hoàng         1\n",
            "\n",
            "[453 rows x 2 columns]\n"
          ]
        }
      ]
    },
    {
      "cell_type": "code",
      "source": [
        "from sklearn.svm import SVC\n",
        "svm=SVC()\n",
        "svm.fit(X,Y)\n",
        "svm.score(X,Y)\n",
        "y_pred=svm.predict(X)\n",
        "print(\"Accuracy of Model\",svm.score(X,Y)*100,\"%\")\n",
        "print(\"Accuracy of Model\",svm.score(X,Y)*100,\"%\")"
      ],
      "metadata": {
        "colab": {
          "base_uri": "https://localhost:8080/"
        },
        "id": "6ax6I5at3lP5",
        "outputId": "c5626462-caea-4eb2-e334-cab19ba889f1"
      },
      "execution_count": null,
      "outputs": [
        {
          "output_type": "stream",
          "name": "stdout",
          "text": [
            "Accuracy of Model 97.13024282560706 %\n",
            "Accuracy of Model 97.13024282560706 %\n"
          ]
        }
      ]
    }
  ]
}